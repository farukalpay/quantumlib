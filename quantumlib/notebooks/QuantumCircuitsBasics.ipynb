{
 "cells": [
  {
   "cell_type": "markdown",
   "metadata": {},
   "source": [
    "# Quantum Circuits Basics\n",
    "This notebook demonstrates fundamental circuit building with quantumlib's QFT, Grover, etc."
   ]
  },
  {
   "cell_type": "code",
   "metadata": {},
   "source": [
    "from qiskit import Aer, execute\n",
    "from quantumlib.circuits import qft_circuit\n",
    "\n",
    "qc = qft_circuit(3)\n",
    "print(qc.draw())\n",
    "\n",
    "backend = Aer.get_backend('aer_simulator')\n",
    "job = execute(qc, backend, shots=1)\n",
    "result = job.result()\n",
    "print(\"Result:\", result.get_counts())"
   ],
   "execution_count": null,
   "outputs": []
  }
 ],
 "metadata": {
  "kernelspec": {
   "display_name": "Python 3",
   "language": "python",
   "name": "python3"
  }
 },
 "nbformat": 4,
 "nbformat_minor": 5
}
